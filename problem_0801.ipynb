{
  "nbformat": 4,
  "nbformat_minor": 0,
  "metadata": {
    "colab": {
      "name": "problem_0801.ipynb",
      "provenance": []
    },
    "kernelspec": {
      "name": "python3",
      "display_name": "Python 3"
    },
    "language_info": {
      "name": "python"
    }
  },
  "cells": [
    {
      "cell_type": "markdown",
      "metadata": {
        "id": "7kxBmfRin_al"
      },
      "source": [
        "# Quiz #0801"
      ]
    },
    {
      "cell_type": "markdown",
      "metadata": {
        "id": "xqBNuRmioD63"
      },
      "source": [
        "## \"Text Classification with Keras\""
      ]
    },
    {
      "cell_type": "code",
      "metadata": {
        "id": "QPr8VCsThyql"
      },
      "source": [
        "# LOADING LIBRARIES\n",
        "\n",
        "import pandas as pd                 \n",
        "import numpy as np                  \n",
        "import re                          \n",
        "import nltk                         \n",
        "from nltk.corpus import stopwords   \n",
        "import matplotlib.pyplot as plt     \n",
        "\n",
        "\n",
        "from numpy import array\n",
        "from keras.preprocessing.text import one_hot                                                \n",
        "from keras.preprocessing.sequence import pad_sequences                                      \n",
        "from keras.models import Sequential                                                         \n",
        "from keras.layers.recurrent import LSTM                                                    \n",
        "from keras.layers import Activation, Dropout, Dense, Flatten    \n",
        "from keras.layers.embeddings import Embedding                                              \n",
        "from sklearn.model_selection import train_test_split                                        \n",
        "from keras.preprocessing.text import Tokenizer \n",
        "from keras.preprocessing.text import text_to_word_sequence \n",
        "\n",
        "np.random.seed(11)      # To reproduce results"
      ],
      "execution_count": 23,
      "outputs": []
    },
    {
      "cell_type": "markdown",
      "metadata": {
        "id": "CCwJlfDHoIbX"
      },
      "source": [
        "### Answer the following question by providing Python code:"
      ]
    },
    {
      "cell_type": "markdown",
      "metadata": {
        "id": "DkpGlO-QoOlo"
      },
      "source": [
        "1). Read in the movie review data from Cornell CS department. Carry out the EDA.\n",
        "\n",
        "*   The data can be found [here](https://www.cs.cornell.edu/people/pabo/movie-review-data/).\n",
        "*   Download the “polarity dataset” and unzip.\n",
        "*    Under the \"txt_sentoken” folder, there are “pos” and “neg\" subfolders."
      ]
    },
    {
      "cell_type": "code",
      "metadata": {
        "id": "PgYXG5Anr4RH"
      },
      "source": [
        "reviews = load_files('txt_sentoken/')\n",
        "my_docs, y = reviews.data, reviews.target"
      ],
      "execution_count": null,
      "outputs": []
    },
    {
      "cell_type": "code",
      "metadata": {
        "colab": {
          "base_uri": "https://localhost:8080/",
          "height": 203
        },
        "id": "xRj3zx4Vsd6P",
        "outputId": "13bc5d26-2b39-428a-a002-56cdc084b2f5"
      },
      "source": [
        "# Reading dataset\n",
        "A = {'target': y.tolist(), 'text': my_docs}\n",
        "movie_reviews = pd.DataFrame(A)\n",
        "# First 5 entries in datatset\n",
        "movie_reviews.head()"
      ],
      "execution_count": 40,
      "outputs": [
        {
          "output_type": "execute_result",
          "data": {
            "text/html": [
              "<div>\n",
              "<style scoped>\n",
              "    .dataframe tbody tr th:only-of-type {\n",
              "        vertical-align: middle;\n",
              "    }\n",
              "\n",
              "    .dataframe tbody tr th {\n",
              "        vertical-align: top;\n",
              "    }\n",
              "\n",
              "    .dataframe thead th {\n",
              "        text-align: right;\n",
              "    }\n",
              "</style>\n",
              "<table border=\"1\" class=\"dataframe\">\n",
              "  <thead>\n",
              "    <tr style=\"text-align: right;\">\n",
              "      <th></th>\n",
              "      <th>review</th>\n",
              "      <th>sentiment</th>\n",
              "    </tr>\n",
              "  </thead>\n",
              "  <tbody>\n",
              "    <tr>\n",
              "      <th>0</th>\n",
              "      <td>One of the other reviewers has mentioned that ...</td>\n",
              "      <td>positive</td>\n",
              "    </tr>\n",
              "    <tr>\n",
              "      <th>1</th>\n",
              "      <td>A wonderful little production. &lt;br /&gt;&lt;br /&gt;The...</td>\n",
              "      <td>positive</td>\n",
              "    </tr>\n",
              "    <tr>\n",
              "      <th>2</th>\n",
              "      <td>I thought this was a wonderful way to spend ti...</td>\n",
              "      <td>positive</td>\n",
              "    </tr>\n",
              "    <tr>\n",
              "      <th>3</th>\n",
              "      <td>Basically there's a family where a little boy ...</td>\n",
              "      <td>negative</td>\n",
              "    </tr>\n",
              "    <tr>\n",
              "      <th>4</th>\n",
              "      <td>Petter Mattei's \"Love in the Time of Money\" is...</td>\n",
              "      <td>positive</td>\n",
              "    </tr>\n",
              "  </tbody>\n",
              "</table>\n",
              "</div>"
            ],
            "text/plain": [
              "                                              review sentiment\n",
              "0  One of the other reviewers has mentioned that ...  positive\n",
              "1  A wonderful little production. <br /><br />The...  positive\n",
              "2  I thought this was a wonderful way to spend ti...  positive\n",
              "3  Basically there's a family where a little boy ...  negative\n",
              "4  Petter Mattei's \"Love in the Time of Money\" is...  positive"
            ]
          },
          "metadata": {},
          "execution_count": 40
        }
      ]
    },
    {
      "cell_type": "code",
      "metadata": {
        "colab": {
          "base_uri": "https://localhost:8080/"
        },
        "id": "6NuzFbYTmQtr",
        "outputId": "1313f478-8db6-4947-d170-1efa24f8467e"
      },
      "source": [
        "# Checking for any null entries in dataset\n",
        "print(movie_reviews.isnull().values)"
      ],
      "execution_count": 10,
      "outputs": [
        {
          "output_type": "stream",
          "name": "stdout",
          "text": [
            "[[False False]\n",
            " [False False]\n",
            " [False False]\n",
            " ...\n",
            " [False False]\n",
            " [False False]\n",
            " [False False]]\n"
          ]
        }
      ]
    },
    {
      "cell_type": "code",
      "metadata": {
        "colab": {
          "base_uri": "https://localhost:8080/"
        },
        "id": "Q1jDBiPYmaqd",
        "outputId": "e10eec1f-0a4f-40b9-f6cc-a4ca1ead38ec"
      },
      "source": [
        "# Number of positive and negative reviews in dataset\n",
        "print(\"\\nNumber of positive and negative reviews in dataset\")\n",
        "print(movie_reviews['sentiment'].value_counts())"
      ],
      "execution_count": 13,
      "outputs": [
        {
          "output_type": "stream",
          "name": "stdout",
          "text": [
            "\n",
            "Number of positive and negative reviews in dataset\n",
            "negative    25000\n",
            "positive    25000\n",
            "Name: sentiment, dtype: int64\n"
          ]
        }
      ]
    },
    {
      "cell_type": "markdown",
      "metadata": {
        "id": "1jkhtxJvogQ0"
      },
      "source": [
        "2). Carry out the data preprocessing:\n",
        "\n",
        "*   Cleaning.\n",
        "*   Stopword removal."
      ]
    },
    {
      "cell_type": "code",
      "metadata": {
        "id": "EKCybZMKh8xN",
        "colab": {
          "base_uri": "https://localhost:8080/"
        },
        "outputId": "df00565b-48d0-41e3-e170-84815e9479fd"
      },
      "source": [
        "# DATA PREPROCESSING\n",
        "\n",
        "# Sample review\n",
        "print(\"\\nSAMPLE REVIEW\")\n",
        "print(movie_reviews['review'][4])\n"
      ],
      "execution_count": 15,
      "outputs": [
        {
          "output_type": "stream",
          "name": "stdout",
          "text": [
            "\n",
            "SAMPLE REVIEW\n",
            "Petter Mattei's \"Love in the Time of Money\" is a visually stunning film to watch. Mr. Mattei offers us a vivid portrait about human relations. This is a movie that seems to be telling us what money, power and success do to people in the different situations we encounter. <br /><br />This being a variation on the Arthur Schnitzler's play about the same theme, the director transfers the action to the present time New York where all these different characters meet and connect. Each one is connected in one way, or another to the next person, but no one seems to know the previous point of contact. Stylishly, the film has a sophisticated luxurious look. We are taken to see how these people live and the world they live in their own habitat.<br /><br />The only thing one gets out of all these souls in the picture is the different stages of loneliness each one inhabits. A big city is not exactly the best place in which human relations find sincere fulfillment, as one discerns is the case with most of the people we encounter.<br /><br />The acting is good under Mr. Mattei's direction. Steve Buscemi, Rosario Dawson, Carol Kane, Michael Imperioli, Adrian Grenier, and the rest of the talented cast, make these characters come alive.<br /><br />We wish Mr. Mattei good luck and await anxiously for his next work.\n"
          ]
        }
      ]
    },
    {
      "cell_type": "code",
      "metadata": {
        "id": "bcYs3sRLmin7"
      },
      "source": [
        "#Function to preprocess each review\n",
        "    # 'r' is used to differentiate regex escaping and normal escape sequence \n",
        "def preprocess(sen):\n",
        "    # Function to remove html tags is called\n",
        "    sentence = remove_tags(sen)\n",
        "\n",
        "    # Remove punctuations and numbers\n",
        "    # '^' means NOT\n",
        "    sentence = re.sub('[^a-zA-Z]', ' ', sentence)\n",
        "\n",
        "    # Single character removal\n",
        "    sentence = re.sub(r\"\\s+[a-zA-Z]\\s+\", ' ', sentence)\n",
        "\n",
        "    # Removing multiple spaces\n",
        "    sentence = re.sub(r'\\s+', ' ', sentence)\n",
        "\n",
        "    return sentence\n"
      ],
      "execution_count": 16,
      "outputs": []
    },
    {
      "cell_type": "code",
      "metadata": {
        "id": "7YnAofdAh_xF"
      },
      "source": [
        "# Function to remove html tags\n",
        "def remove_tags(text):\n",
        "    return re.sub(r'<[^>]+>', '', text)\n",
        "\n",
        "# Passing all the reviews into preprocess function defined earlier\n",
        "    #Defining an empty list to store preprocessed text\n",
        "X = []\n",
        "# Converting our dataset from type \"dataframe\" to type \"list\"\n",
        "sentences = list(movie_reviews['review'])\n",
        "for sen in sentences:\n",
        "    X.append(preprocess(sen))\n"
      ],
      "execution_count": 17,
      "outputs": []
    },
    {
      "cell_type": "code",
      "metadata": {
        "colab": {
          "base_uri": "https://localhost:8080/"
        },
        "id": "joJWpFakmovk",
        "outputId": "47c1cb7f-1293-432d-82ae-b3fa7b851417"
      },
      "source": [
        "# Sample review after preprocessing\n",
        "print(\"\\nSAMPLE REVIEW AFTER PREPROCESSING\")\n",
        "print(X[4])"
      ],
      "execution_count": 18,
      "outputs": [
        {
          "output_type": "stream",
          "name": "stdout",
          "text": [
            "\n",
            "SAMPLE REVIEW AFTER PREPROCESSING\n",
            "Petter Mattei Love in the Time of Money is visually stunning film to watch Mr Mattei offers us vivid portrait about human relations This is movie that seems to be telling us what money power and success do to people in the different situations we encounter This being variation on the Arthur Schnitzler play about the same theme the director transfers the action to the present time New York where all these different characters meet and connect Each one is connected in one way or another to the next person but no one seems to know the previous point of contact Stylishly the film has sophisticated luxurious look We are taken to see how these people live and the world they live in their own habitat The only thing one gets out of all these souls in the picture is the different stages of loneliness each one inhabits big city is not exactly the best place in which human relations find sincere fulfillment as one discerns is the case with most of the people we encounter The acting is good under Mr Mattei direction Steve Buscemi Rosario Dawson Carol Kane Michael Imperioli Adrian Grenier and the rest of the talented cast make these characters come alive We wish Mr Mattei good luck and await anxiously for his next work \n"
          ]
        }
      ]
    },
    {
      "cell_type": "markdown",
      "metadata": {
        "id": "XvdxWs40omDR"
      },
      "source": [
        "3). Carry out label encoding by integers (required form by Keras):"
      ]
    },
    {
      "cell_type": "code",
      "metadata": {
        "id": "CsVFKXXlm6ZM"
      },
      "source": [
        "# One hot encoding of target feature\n",
        "y = movie_reviews['sentiment']\n",
        "y = np.array(list(map(lambda x: 1 if x==\"positive\" else 0, y)))"
      ],
      "execution_count": 19,
      "outputs": []
    },
    {
      "cell_type": "code",
      "metadata": {
        "id": "dIJaQiCrm8td"
      },
      "source": [
        "#Splitting dataset into train and test data\n",
        "X_train, X_test, y_train, y_test = train_test_split(X, y, test_size=0.25, random_state=70)"
      ],
      "execution_count": 20,
      "outputs": []
    },
    {
      "cell_type": "code",
      "metadata": {
        "id": "mdhsfahQiB8a",
        "colab": {
          "base_uri": "https://localhost:8080/"
        },
        "outputId": "b3a09cb3-23fa-4f06-af87-9df11241f184"
      },
      "source": [
        "# DATA PREPARATION\n",
        "\n",
        "# Converts words into vectors holding sequence of intergers for corresponding words\n",
        "tokenizer = Tokenizer(num_words=5000)\n",
        "# Generate index for each string based on frequency (more frequent ; lesser the index value)\n",
        "tokenizer.fit_on_texts(X_train)\n",
        "print(\"\\nNumber of unique words in training set\") \n",
        "print(len(tokenizer.word_index))\n",
        "# Substitute words with corresponding word index values\n",
        "\n",
        "X_train = tokenizer.texts_to_sequences(X_train)\n",
        "X_test = tokenizer.texts_to_sequences(X_test)\n",
        "\n",
        "\n"
      ],
      "execution_count": 21,
      "outputs": [
        {
          "output_type": "stream",
          "name": "stdout",
          "text": [
            "\n",
            "Number of unique words in training set\n",
            "90134\n"
          ]
        }
      ]
    },
    {
      "cell_type": "markdown",
      "metadata": {
        "id": "aZoAGUMzoqQg"
      },
      "source": [
        "4). Prepare the data for AI:\n",
        "\n",
        "*   Apply the padding.\n",
        "*   Split the data into training and testing."
      ]
    },
    {
      "cell_type": "code",
      "metadata": {
        "id": "lxBZfdOunDsy"
      },
      "source": [
        "# Adding '1' as index '0' is reserved in word_index\n",
        "vocab_size = len(tokenizer.word_index) + 1\n",
        "# Setting maximum length of each list(review) to be of length 100 words\n",
        "maxlen = 100\n",
        "# Making the train and test statements to be of size 100 by truncating or padding accordingly\n",
        "X_train = pad_sequences(X_train, padding='post', maxlen=maxlen)\n",
        "X_test = pad_sequences(X_test, padding='post', maxlen=maxlen)"
      ],
      "execution_count": 22,
      "outputs": []
    },
    {
      "cell_type": "markdown",
      "metadata": {
        "id": "6yKNiok9ouHD"
      },
      "source": [
        "5). Define the AI model (Embedding + LSTM):"
      ]
    },
    {
      "cell_type": "code",
      "metadata": {
        "id": "S8GAo_9FiELP"
      },
      "source": [
        "# Creating a dictionary with words as key and corresponding embedding list loaded from \"GloVe\" dataset as values\n",
        "embeddings_dictionary = dict()\n",
        "glove_file = open('glove.6B.100d.txt', encoding=\"utf8\")\n",
        "# Creating each line in GloVe dataset as a kwy-value pair\n",
        "for line in glove_file:\n",
        "    records = line.split()\n",
        "    word = records[0]\n",
        "    vector_dimensions = np.asarray(records[1:], dtype='float32')\n",
        "    embeddings_dictionary [word] = vector_dimensions\n",
        "glove_file.close()"
      ],
      "execution_count": 24,
      "outputs": []
    },
    {
      "cell_type": "code",
      "metadata": {
        "id": "J2OiPZQmnIzH"
      },
      "source": [
        "# Creating embedding matrix\n",
        "embedding_matrix = np.zeros((vocab_size, 100))\n",
        "# Getting vector representation (from embedding dictionary) of each word in word_index\n",
        "for word, index in tokenizer.word_index.items():\n",
        "    embedding_vector = embeddings_dictionary.get(word)\n",
        "    #If word is not available in GloVE embedding text file, that word will be skipped\n",
        "    if embedding_vector is not None:\n",
        "        embedding_matrix[index] = embedding_vector"
      ],
      "execution_count": 25,
      "outputs": []
    },
    {
      "cell_type": "code",
      "metadata": {
        "id": "n0KC_1TLiG8c"
      },
      "source": [
        "# CONSTRUCTING SIMPLE DEEP NEURAL NETWORK\n",
        "\n",
        "# Creating a sequential model\n",
        "dnn_model = Sequential()\n",
        "# Setting imput and output size to 100. Since we are using \"GloVe - a predefined embedding\", we set \"trainable\" to False\n",
        "embedding_layer = Embedding(vocab_size, 100, weights=[embedding_matrix], input_length=maxlen , trainable=False)\n",
        "dnn_model.add(embedding_layer)\n",
        "# Flattening the embedding the layer\n",
        "    # layer of dimension (5, 3) becomes (1, 15)\n",
        "dnn_model.add(Flatten())\n",
        "# Adding Dense layer with one dimension output space\n",
        "    # Dense is made at final layer - Fully connected layer\n",
        "dnn_model.add(Dense(1, activation='sigmoid'))"
      ],
      "execution_count": 26,
      "outputs": []
    },
    {
      "cell_type": "markdown",
      "metadata": {
        "id": "yrEOuiBPoxk1"
      },
      "source": [
        "6). Define the optimizer and compile the model:"
      ]
    },
    {
      "cell_type": "code",
      "metadata": {
        "colab": {
          "base_uri": "https://localhost:8080/"
        },
        "id": "OPtJCVKfnluO",
        "outputId": "b88901c3-9cbd-4ad7-b146-7105ca0fef73"
      },
      "source": [
        "# Compiling the model\n",
        "    #Optimizer used for faster convergence of model training\n",
        "dnn_model.compile(optimizer='nadam', loss='binary_crossentropy', metrics=['acc'])\n",
        "# Printing the model summary\n",
        "print(\"\\nSIMPLE DEEP NEURAL NETWORK MODEL\")\n",
        "print(dnn_model.summary())\n"
      ],
      "execution_count": 27,
      "outputs": [
        {
          "output_type": "stream",
          "name": "stdout",
          "text": [
            "\n",
            "SIMPLE DEEP NEURAL NETWORK MODEL\n",
            "Model: \"sequential\"\n",
            "_________________________________________________________________\n",
            "Layer (type)                 Output Shape              Param #   \n",
            "=================================================================\n",
            "embedding (Embedding)        (None, 100, 100)          9013500   \n",
            "_________________________________________________________________\n",
            "flatten (Flatten)            (None, 10000)             0         \n",
            "_________________________________________________________________\n",
            "dense (Dense)                (None, 1)                 10001     \n",
            "=================================================================\n",
            "Total params: 9,023,501\n",
            "Trainable params: 10,001\n",
            "Non-trainable params: 9,013,500\n",
            "_________________________________________________________________\n",
            "None\n"
          ]
        }
      ]
    },
    {
      "cell_type": "markdown",
      "metadata": {
        "id": "37vl0EX1o1iC"
      },
      "source": [
        "7). Train the model and visualize the summary:"
      ]
    },
    {
      "cell_type": "code",
      "metadata": {
        "colab": {
          "base_uri": "https://localhost:8080/"
        },
        "id": "7fbJnWHBnntu",
        "outputId": "889c99b1-646b-4b36-d802-a73d2fe0dd7f"
      },
      "source": [
        "# Training our model\n",
        "dnn_history = dnn_model.fit(X_train, y_train, batch_size=128, epochs=6, verbose=1, validation_split=0.2)\n",
        "# Evaluating the model's accuracy\n",
        "dnn_score = dnn_model.evaluate(X_test, y_test, verbose=1)"
      ],
      "execution_count": 28,
      "outputs": [
        {
          "output_type": "stream",
          "name": "stdout",
          "text": [
            "Epoch 1/6\n",
            "235/235 [==============================] - 2s 6ms/step - loss: 0.6334 - acc: 0.6449 - val_loss: 0.5470 - val_acc: 0.7240\n",
            "Epoch 2/6\n",
            "235/235 [==============================] - 1s 5ms/step - loss: 0.5241 - acc: 0.7396 - val_loss: 0.5245 - val_acc: 0.7423\n",
            "Epoch 3/6\n",
            "235/235 [==============================] - 1s 5ms/step - loss: 0.4844 - acc: 0.7660 - val_loss: 0.7398 - val_acc: 0.6463\n",
            "Epoch 4/6\n",
            "235/235 [==============================] - 1s 5ms/step - loss: 0.4560 - acc: 0.7856 - val_loss: 0.5597 - val_acc: 0.7229\n",
            "Epoch 5/6\n",
            "235/235 [==============================] - 1s 5ms/step - loss: 0.4349 - acc: 0.7983 - val_loss: 0.5381 - val_acc: 0.7365\n",
            "Epoch 6/6\n",
            "235/235 [==============================] - 1s 5ms/step - loss: 0.4258 - acc: 0.8033 - val_loss: 0.6133 - val_acc: 0.7053\n",
            "391/391 [==============================] - 1s 2ms/step - loss: 0.6215 - acc: 0.7027\n"
          ]
        }
      ]
    },
    {
      "cell_type": "markdown",
      "metadata": {
        "id": "5iKlnRFco7AO"
      },
      "source": [
        "8). Display the test result (accuracy):"
      ]
    },
    {
      "cell_type": "code",
      "metadata": {
        "colab": {
          "base_uri": "https://localhost:8080/"
        },
        "id": "lEGDGkMoo-iB",
        "outputId": "69dd0cb3-2dfc-468d-e34d-0f34912f9f44"
      },
      "source": [
        "print(\"\\nTEST SCORES OF MODEL\")\n",
        "print(\"Test loss:\", dnn_score[0])\n",
        "print(\"Test Accuracy:\", dnn_score[1])"
      ],
      "execution_count": 29,
      "outputs": [
        {
          "output_type": "stream",
          "name": "stdout",
          "text": [
            "\n",
            "TEST SCORES OF MODEL\n",
            "Test loss: 0.621452808380127\n",
            "Test Accuracy: 0.7027199864387512\n"
          ]
        }
      ]
    },
    {
      "cell_type": "code",
      "metadata": {
        "id": "vwD_ISWGiJaX",
        "colab": {
          "base_uri": "https://localhost:8080/",
          "height": 295
        },
        "outputId": "eb0bf946-e097-4b4a-b851-81316ce4abe7"
      },
      "source": [
        "# Plotting graph for model built\n",
        "    # Accuracy graph\n",
        "plt.title('Neural network model accuracy')\n",
        "plt.ylabel('Accuracy')\n",
        "plt.xlabel('Number of epoch')\n",
        "plt.plot(dnn_history.history['acc'], label = 'Train')\n",
        "plt.plot(dnn_history.history['val_acc'], label = 'Valid')\n",
        "plt.legend(loc='best')\n",
        "plt.show()\n"
      ],
      "execution_count": 30,
      "outputs": [
        {
          "output_type": "display_data",
          "data": {
            "image/png": "[encoded data removed]",
            "text/plain": [
              "<Figure size 432x288 with 1 Axes>"
            ]
          },
          "metadata": {
            "needs_background": "light"
          }
        }
      ]
    },
    {
      "cell_type": "code",
      "metadata": {
        "colab": {
          "base_uri": "https://localhost:8080/",
          "height": 295
        },
        "id": "zVoT7AhJnqBU",
        "outputId": "b86499ea-0510-4296-9cce-99f5f8a4edab"
      },
      "source": [
        "# Loss graph\n",
        "plt.title('Neural network model loss')\n",
        "plt.ylabel('loss')\n",
        "plt.xlabel('epoch')\n",
        "plt.plot(dnn_history.history['loss'], label = 'Train')\n",
        "plt.plot(dnn_history.history['val_loss'], label = 'Valid')\n",
        "plt.legend(loc='best')\n",
        "plt.show()"
      ],
      "execution_count": 31,
      "outputs": [
        {
          "output_type": "display_data",
          "data": {
            "image/png": "[encoded data removed]",
            "text/plain": [
              "<Figure size 432x288 with 1 Axes>"
            ]
          },
          "metadata": {
            "needs_background": "light"
          }
        }
      ]
    },
    {
      "cell_type": "code",
      "metadata": {
        "id": "JlZ_Z2tCiMu4"
      },
      "source": [
        "# LSTM RECURRENT NEURAL NETWORK\n",
        "\n",
        "# Creating a sequential model\n",
        "rnn_model = Sequential()\n",
        "# Setting imput and output size to 100. Since we are using \"GloVe - a predefined embedding\", we set \"trainable\" to False\n",
        "embedding_layer = Embedding(vocab_size, 100, weights=[embedding_matrix], input_length=maxlen , trainable=False)\n",
        "rnn_model.add(embedding_layer)\n",
        "# LSTM model is created with 128 neurons\n",
        "rnn_model.add(LSTM(128))\n",
        "rnn_model.add(Dense(1, activation='sigmoid'))\n"
      ],
      "execution_count": 32,
      "outputs": []
    },
    {
      "cell_type": "code",
      "metadata": {
        "id": "g2KjUS2insuI"
      },
      "source": [
        "#Compiling the model\n",
        "rnn_model.compile(optimizer='nadam', loss='binary_crossentropy', metrics=['acc'])\n"
      ],
      "execution_count": 33,
      "outputs": []
    },
    {
      "cell_type": "code",
      "metadata": {
        "colab": {
          "base_uri": "https://localhost:8080/"
        },
        "id": "A9JaCjYWnuX_",
        "outputId": "65c70b96-4f9c-45bf-e2c6-23a1c0610838"
      },
      "source": [
        "# Printing the model summary\n",
        "print(\"\\nLSTM RECURRENT NEURAL NETWORK MODEL\")\n",
        "print(rnn_model.summary())"
      ],
      "execution_count": 34,
      "outputs": [
        {
          "output_type": "stream",
          "name": "stdout",
          "text": [
            "\n",
            "LSTM RECURRENT NEURAL NETWORK MODEL\n",
            "Model: \"sequential_1\"\n",
            "_________________________________________________________________\n",
            "Layer (type)                 Output Shape              Param #   \n",
            "=================================================================\n",
            "embedding_1 (Embedding)      (None, 100, 100)          9013500   \n",
            "_________________________________________________________________\n",
            "lstm (LSTM)                  (None, 128)               117248    \n",
            "_________________________________________________________________\n",
            "dense_1 (Dense)              (None, 1)                 129       \n",
            "=================================================================\n",
            "Total params: 9,130,877\n",
            "Trainable params: 117,377\n",
            "Non-trainable params: 9,013,500\n",
            "_________________________________________________________________\n",
            "None\n"
          ]
        }
      ]
    },
    {
      "cell_type": "code",
      "metadata": {
        "id": "s1vR_dHniO4b",
        "colab": {
          "base_uri": "https://localhost:8080/"
        },
        "outputId": "6a1d8c66-113c-45c0-9835-b62491d04ee1"
      },
      "source": [
        "# Training our model\n",
        "rnn_history = rnn_model.fit(X_train, y_train, batch_size=128, epochs=6, verbose=1, validation_split=0.2)\n",
        "# Evaluating the model's accuracy\n",
        "rnn_score = rnn_model.evaluate(X_test, y_test, verbose=1)\n",
        "print(\"\\nTEST SCORES OF MODEL\")\n",
        "print(\"Test loss:\", rnn_score[0])\n",
        "print(\"Test Accuracy:\", rnn_score[1])"
      ],
      "execution_count": 35,
      "outputs": [
        {
          "output_type": "stream",
          "name": "stdout",
          "text": [
            "Epoch 1/6\n",
            "235/235 [==============================] - 105s 433ms/step - loss: 0.6065 - acc: 0.6674 - val_loss: 0.4740 - val_acc: 0.7833\n",
            "Epoch 2/6\n",
            "235/235 [==============================] - 101s 429ms/step - loss: 0.4560 - acc: 0.7880 - val_loss: 0.4497 - val_acc: 0.7959\n",
            "Epoch 3/6\n",
            "235/235 [==============================] - 101s 429ms/step - loss: 0.3998 - acc: 0.8192 - val_loss: 0.4416 - val_acc: 0.7831\n",
            "Epoch 4/6\n",
            "235/235 [==============================] - 102s 433ms/step - loss: 0.3727 - acc: 0.8352 - val_loss: 0.3883 - val_acc: 0.8245\n",
            "Epoch 5/6\n",
            "235/235 [==============================] - 101s 431ms/step - loss: 0.3507 - acc: 0.8459 - val_loss: 0.3548 - val_acc: 0.8415\n",
            "Epoch 6/6\n",
            "235/235 [==============================] - 102s 432ms/step - loss: 0.3280 - acc: 0.8583 - val_loss: 0.3850 - val_acc: 0.8277\n",
            "391/391 [==============================] - 15s 38ms/step - loss: 0.3739 - acc: 0.8366\n",
            "\n",
            "TEST SCORES OF MODEL\n",
            "Test loss: 0.37386205792427063\n",
            "Test Accuracy: 0.8366400003433228\n"
          ]
        }
      ]
    },
    {
      "cell_type": "code",
      "metadata": {
        "colab": {
          "base_uri": "https://localhost:8080/",
          "height": 295
        },
        "id": "DllLoJLdnwXz",
        "outputId": "c15ea382-a12f-4e1f-b3b5-08761e8c72da"
      },
      "source": [
        "# Plotting graph for model built\n",
        "# Accuracy graph\n",
        "plt.title('LSTM model accuracy')\n",
        "plt.ylabel('Accuracy')\n",
        "plt.xlabel('Number of epoch')\n",
        "plt.plot(rnn_history.history['acc'], label = 'Train')\n",
        "plt.plot(rnn_history.history['val_acc'], label = 'Valid')\n",
        "plt.legend(loc='best')\n",
        "plt.show()\n"
      ],
      "execution_count": 36,
      "outputs": [
        {
          "output_type": "display_data",
          "data": {
            "image/png": "[encoded data removed]",
            "text/plain": [
              "<Figure size 432x288 with 1 Axes>"
            ]
          },
          "metadata": {
            "needs_background": "light"
          }
        }
      ]
    },
    {
      "cell_type": "code",
      "metadata": {
        "colab": {
          "base_uri": "https://localhost:8080/",
          "height": 295
        },
        "id": "2-Ki4rtYnyIn",
        "outputId": "8117396e-bdf9-4359-eeae-9a446a7ddf7c"
      },
      "source": [
        "# Loss graph\n",
        "plt.title('LSTM model loss')\n",
        "plt.ylabel('loss')\n",
        "plt.xlabel('epoch')\n",
        "plt.plot(rnn_history.history['loss'], label = 'Train')\n",
        "plt.plot(rnn_history.history['val_loss'], label = 'Valid')\n",
        "plt.legend(loc='best')\n",
        "plt.show()"
      ],
      "execution_count": 37,
      "outputs": [
        {
          "output_type": "display_data",
          "data": {
            "image/png": "[encoded data removed]",
            "text/plain": [
              "<Figure size 432x288 with 1 Axes>"
            ]
          },
          "metadata": {
            "needs_background": "light"
          }
        }
      ]
    },
    {
      "cell_type": "code",
      "metadata": {
        "id": "eOXMPVvUiRGw",
        "colab": {
          "base_uri": "https://localhost:8080/"
        },
        "outputId": "dccc30fa-1a35-4c8d-9622-a6d20cfdb9d1"
      },
      "source": [
        "# Final Results\n",
        "print(\"\\nDeep Neural Network\")\n",
        "print(\"Traning Accuracy : {}\" .format(dnn_history.history['acc']))\n",
        "print(\"Validation Accuracy : {}\" .format(dnn_history.history['val_acc']))\n",
        "print(\"\\nTraning Loss : {}\" .format(dnn_history.history['loss']))\n",
        "print(\"Validation Loss : {}\" .format(dnn_history.history['val_loss']))"
      ],
      "execution_count": 38,
      "outputs": [
        {
          "output_type": "stream",
          "name": "stdout",
          "text": [
            "\n",
            "Deep Neural Network\n",
            "Traning Accuracy : [0.6448666453361511, 0.739633321762085, 0.7660333514213562, 0.7856333255767822, 0.79830002784729, 0.8032666444778442]\n",
            "Validation Accuracy : [0.7239999771118164, 0.7422666549682617, 0.6462666392326355, 0.7229333519935608, 0.7365333437919617, 0.7053333520889282]\n",
            "\n",
            "Traning Loss : [0.6334037184715271, 0.5241066813468933, 0.484424889087677, 0.45599445700645447, 0.43490418791770935, 0.4258086383342743]\n",
            "Validation Loss : [0.5470054745674133, 0.5245143175125122, 0.7397938370704651, 0.5596622228622437, 0.5380825400352478, 0.6132792830467224]\n"
          ]
        }
      ]
    },
    {
      "cell_type": "code",
      "metadata": {
        "id": "lst1l-2ViXKh",
        "colab": {
          "base_uri": "https://localhost:8080/"
        },
        "outputId": "84d79298-b4a9-402f-e85d-fd966e194920"
      },
      "source": [
        "print(\"\\n\\n\\nLSTM\")\n",
        "print(\"Traning Accuracy : {}\" .format(rnn_history.history['acc']))\n",
        "print(\"Validation Accuracy : {}\" .format(rnn_history.history['val_acc']))\n",
        "print(\"\\nTraning Loss : {}\" .format(rnn_history.history['loss']))\n",
        "print(\"Validation Loss : {}\" .format(rnn_history.history['val_loss']))"
      ],
      "execution_count": 39,
      "outputs": [
        {
          "output_type": "stream",
          "name": "stdout",
          "text": [
            "\n",
            "\n",
            "\n",
            "LSTM\n",
            "Traning Accuracy : [0.6674333214759827, 0.7880333065986633, 0.8191999793052673, 0.8352000117301941, 0.8459333181381226, 0.8582666516304016]\n",
            "Validation Accuracy : [0.7833333611488342, 0.7958666682243347, 0.7830666899681091, 0.8245333433151245, 0.8414666652679443, 0.8277333378791809]\n",
            "\n",
            "Traning Loss : [0.6065195798873901, 0.4559779763221741, 0.3997955620288849, 0.3726635277271271, 0.35072797536849976, 0.3280276358127594]\n",
            "Validation Loss : [0.4740440547466278, 0.4497263431549072, 0.441570907831192, 0.38831886649131775, 0.3547537326812744, 0.3849625289440155]\n"
          ]
        }
      ]
    }
  ]
}